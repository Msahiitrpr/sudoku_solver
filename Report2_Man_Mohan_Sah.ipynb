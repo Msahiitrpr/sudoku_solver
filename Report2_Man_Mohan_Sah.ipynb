{
  "nbformat": 4,
  "nbformat_minor": 0,
  "metadata": {
    "colab": {
      "name": "Report2_Man_Mohan_Sah.ipynb",
      "provenance": []
    },
    "kernelspec": {
      "name": "python3",
      "display_name": "Python 3"
    }
  },
  "cells": [
    {
      "cell_type": "markdown",
      "metadata": {
        "id": "NMs3_pQZThO2"
      },
      "source": [
        "## SUDOKU SOLVER\n",
        "A algorithm for solving sudoku based on the concepts of \n",
        "1. Backtracking, \n",
        "2. Selecting variables smartly, i.e with minimum remaining values  \n",
        "4. forward checking \n",
        "3. Constraints propogation, to update domain values.\n",
        "\n",
        "Algorithm uses the following steps :\n",
        "\n",
        "1. Selects an empty cell with smallest domain   \n",
        "2.   make temporary assignment to cell from domain of that cell \n",
        "4. Update domain values of all the cells\n",
        "5. use forward checking, to ensure that assignment is not causing us a backtrack\n",
        "6. Call the function recursively, if the function returns, then assign the value and return true\n",
        "7. else delete temporary assignment and restore old domain values and try to assign next values \n",
        "8. if no value can be assigned from the domain of a cell return false\n",
        "8. if there is no empty cell return true.\n",
        "\n",
        "\n",
        "\n",
        "References \n",
        "\n",
        "1. https://www.geeksforgeeks.org/sudoku-backtracking-7/\n",
        "2. https://medium.com/my-udacity-ai-nanodegree-notes/solving-sudoku-think-constraint-satisfaction-problem-75763f0742c9\n",
        "3. https://towardsdatascience.com/solving-sudoku-with-ai-d6008993c7de\n",
        "\n",
        "\n",
        "\n"
      ]
    },
    {
      "cell_type": "code",
      "metadata": {
        "id": "MnkMELF6b1oF"
      },
      "source": [
        "# update the board to solve any sudoku\n",
        "#use 0 to denote empty cells \n",
        "import copy\n",
        "sudoku = [\n",
        "    [5,3,0,  0,7,0,  0,0,0],\n",
        "    [6,0,0,  1,9,5,  0,0,0],\n",
        "    [0,9,8,  0,0,0,  0,6,0],\n",
        "\n",
        "    [8,0,0,  0,6,0,  0,0,3],\n",
        "    [4,0,0,  8,0,3,  0,0,1],\n",
        "    [7,0,0,  0,2,0,  0,0,6],\n",
        "    \n",
        "    [0,6,0,  0,0,0,  2,8,0],\n",
        "    [0,0,0,  4,1,9,  0,0,5],\n",
        "    [0,0,0,  0,8,0,  0,7,9]\n",
        "]"
      ],
      "execution_count": null,
      "outputs": []
    },
    {
      "cell_type": "code",
      "metadata": {
        "id": "-DO56aU-68J3"
      },
      "source": [
        "#constraints sets \n",
        "\n",
        "#fun to find domain of a particular cell\n",
        "def find_domain(row,col):\n",
        "  cell_domain=[i for i in range(1 ,10)]\n",
        "\n",
        "  for i in range (len(sudoku)):\n",
        "    if (sudoku[row][i] != 0) and (sudoku[row][i] in cell_domain):\n",
        "      cell_domain.remove(sudoku[row][i])\n",
        "\n",
        "  for i in range (len(sudoku)):\n",
        "    if (sudoku[i][col] != 0) and (sudoku[i][col] in cell_domain):\n",
        "      cell_domain.remove(sudoku[i][col])\n",
        "  \n",
        "  sq_i=int(row/3)\n",
        "  sq_j=int(col/3)\n",
        "  base_sq_i=sq_i *3\n",
        "  base_sq_j=sq_j*3\n",
        "  for i in range(base_sq_i, base_sq_i+3):\n",
        "    for j in range(base_sq_j, base_sq_j+3):\n",
        "      if (sudoku[i][j]!=0) and (sudoku[i][j] in cell_domain):\n",
        "        cell_domain.remove(sudoku[i][j])\n",
        "  \n",
        "  return cell_domain\n",
        "\n",
        "#function to create and update Domain values of all cells \n",
        "def make_domain():\n",
        "  domain_set=[]\n",
        "  for row in range(len(sudoku)):\n",
        "    for col in range(len(sudoku)):\n",
        "      if sudoku[row][col]!=0:\n",
        "        domain_set.append([-1])\n",
        "      else:\n",
        "        domain_set.append( find_domain(row,col) )\n",
        "  return domain_set\n",
        "\n",
        "# function to return length of domain of a particular cell \n",
        "def domain_len_fun(dom_list):\n",
        "  if -1 in dom_list or dom_list==[]:\n",
        "    return 10\n",
        "  else:\n",
        "    return len(dom_list)\n",
        "\n",
        "\n"
      ],
      "execution_count": null,
      "outputs": []
    },
    {
      "cell_type": "code",
      "metadata": {
        "id": "tZ4a8TgvPIhB"
      },
      "source": [
        "#Function to smartly find next empty cell\n",
        "# the next empty cell should have least no of domain values so that there is less chances of backtracking ar branching \n",
        "\n",
        "def next_emp_cell():\n",
        "  #dv_cardi = domain value cardinality\n",
        "  dv_cardi=list( map(domain_len_fun,domain_values) )\n",
        "  min_cardi=min(dv_cardi)\n",
        "  if min_cardi==10:\n",
        "    return(-1,-1)\n",
        "  else:\n",
        "    pos=dv_cardi.index(min_cardi)\n",
        "    pos_i=int(pos/9)\n",
        "    pos_j=pos%9\n",
        "    return (pos_i, pos_j)\n",
        "\n",
        "#Fun to check if there exist any empty cell with no domain values \n",
        "#Forward checking Concepts \n",
        "def isinvalid(row,col):\n",
        "  temp=domain_values.pop(row*9+col)\n",
        "  if [] in domain_values:\n",
        "    domain_values.insert(row*9+col, temp)\n",
        "    return True\n",
        "  else:\n",
        "    domain_values.insert(row*9+col, temp)\n",
        "    return False\n",
        "\n",
        "\n"
      ],
      "execution_count": null,
      "outputs": []
    },
    {
      "cell_type": "code",
      "metadata": {
        "colab": {
          "base_uri": "https://localhost:8080/"
        },
        "id": "F9iMMPeMUDsF",
        "outputId": "4456548c-b1c1-4bab-f9e3-7108d5d9c0ba"
      },
      "source": [
        "\n",
        "domain_values=make_domain()\n",
        "# solve function is parent function \n",
        "\n",
        "def solve():\n",
        "  global domain_values\n",
        "  global sudoku\n",
        "\n",
        "  #finding empty cell with smallest domain \n",
        "  empty_cell=next_emp_cell()\n",
        "  if empty_cell[0]==-1:\n",
        "    return True \n",
        "  else:\n",
        "    (pos_row, pos_col) = empty_cell\n",
        "  \n",
        "  #asigning and checking validity if values from domain\n",
        "  for val in domain_values[pos_row*9+pos_col]:\n",
        "    sudoku[pos_row][pos_col]=val\n",
        "\n",
        "    old_domain=copy.deepcopy(domain_values)\n",
        "    domain_values=make_domain()\n",
        "    flag=isinvalid(pos_row,pos_col)\n",
        "    \n",
        "    if not flag and solve():\n",
        "        return True\n",
        "    \n",
        "    sudoku[pos_row][pos_col] =0\n",
        "    domain_values=old_domain\n",
        "  \n",
        "  return False \n",
        "\n",
        "\n",
        "solve()\n"
      ],
      "execution_count": null,
      "outputs": [
        {
          "output_type": "execute_result",
          "data": {
            "text/plain": [
              "True"
            ]
          },
          "metadata": {
            "tags": []
          },
          "execution_count": 162
        }
      ]
    },
    {
      "cell_type": "code",
      "metadata": {
        "colab": {
          "base_uri": "https://localhost:8080/"
        },
        "id": "Gs6_ThwN9yLA",
        "outputId": "63233f69-769c-438b-8d32-7fa5a8ef4655"
      },
      "source": [
        "sudoku"
      ],
      "execution_count": null,
      "outputs": [
        {
          "output_type": "execute_result",
          "data": {
            "text/plain": [
              "[[5, 3, 4, 6, 7, 8, 9, 1, 2],\n",
              " [6, 7, 2, 1, 9, 5, 3, 4, 8],\n",
              " [1, 9, 8, 3, 4, 2, 5, 6, 7],\n",
              " [8, 5, 9, 7, 6, 1, 4, 2, 3],\n",
              " [4, 2, 6, 8, 5, 3, 7, 9, 1],\n",
              " [7, 1, 3, 9, 2, 4, 8, 5, 6],\n",
              " [9, 6, 1, 5, 3, 7, 2, 8, 4],\n",
              " [2, 8, 7, 4, 1, 9, 6, 3, 5],\n",
              " [3, 4, 5, 2, 8, 6, 1, 7, 9]]"
            ]
          },
          "metadata": {
            "tags": []
          },
          "execution_count": 163
        }
      ]
    },
    {
      "cell_type": "code",
      "metadata": {
        "id": "eEqouSIfFKvF"
      },
      "source": [
        ""
      ],
      "execution_count": null,
      "outputs": []
    }
  ]
}